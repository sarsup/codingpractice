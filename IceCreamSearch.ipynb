{
 "cells": [
  {
   "cell_type": "code",
   "execution_count": 38,
   "metadata": {
    "collapsed": false
   },
   "outputs": [],
   "source": [
    "import copy\n",
    "tres=[]\n",
    "with open(\"output02.txt\",\"r\") as opfile:\n",
    "    for line in opfile:\n",
    "        tres.append(line.replace('\\n',''))\n",
    "with open(\"input02.txt\",\"r\") as testfile:\n",
    "    nCases = int(testfile.readline())\n",
    "    j=0\n",
    "    res = []\n",
    "    for line in testfile:\n",
    "        j+=1\n",
    "        if j%3==1:\n",
    "            m = int(line)\n",
    "        elif j%3 == 2:\n",
    "            n = int(line)\n",
    "        elif j%3 == 0:\n",
    "            a = [int(s) for s in line.split()]\n",
    "            cdict = {}\n",
    "            for i,e in enumerate(a):\n",
    "                if not cdict.get(e):\n",
    "                    cdict[e] = [i+1]\n",
    "                else:\n",
    "                    cdict[e].append(i+1)\n",
    "            for i,e in enumerate(a):\n",
    "                if cdict.get(m-e):\n",
    "                    \n",
    "                    x = [d for d in cdict[m-e] if d != i+1]\n",
    "                    if len(x)>0:\n",
    "                        res.append(str(i+1)+\" \"+str(x[0]))\n",
    "                    else:\n",
    "                        continue\n",
    "                    if res[len(res)-1]!=tres[len(res)-1]:\n",
    "                        print \"gotcha\"\n",
    "                        pp=copy.copy(a)\n",
    "                        xdict = copy.copy(cdict)\n",
    "                        tot = m\n",
    "                        print res[len(res)-1], tres[len(res)-1]\n",
    "                        raise ValueError\n",
    "                    break\n",
    "                \n",
    "for i in range(50):\n",
    "    if res[i]!=tres[i]:\n",
    "        print \"ind=%d, res=%s, tres=%s\" %(i,res[i],tres[i])            \n",
    "        \n",
    "        "
   ]
  }
 ],
 "metadata": {
  "kernelspec": {
   "display_name": "Python 2",
   "language": "python",
   "name": "python2"
  },
  "language_info": {
   "codemirror_mode": {
    "name": "ipython",
    "version": 2
   },
   "file_extension": ".py",
   "mimetype": "text/x-python",
   "name": "python",
   "nbconvert_exporter": "python",
   "pygments_lexer": "ipython2",
   "version": "2.7.13"
  }
 },
 "nbformat": 4,
 "nbformat_minor": 2
}
